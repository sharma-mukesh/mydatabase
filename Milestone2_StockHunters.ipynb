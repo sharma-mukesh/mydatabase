{
 "cells": [
  {
   "cell_type": "code",
   "execution_count": 78,
   "metadata": {},
   "outputs": [
    {
     "name": "stdout",
     "output_type": "stream",
     "text": [
      "Requirement already satisfied: yfinance in c:\\users\\mick\\anaconda3\\lib\\site-packages (0.1.54)\n",
      "Requirement already satisfied: pandas>=0.24 in c:\\users\\mick\\anaconda3\\lib\\site-packages (from yfinance) (0.25.1)\n",
      "Requirement already satisfied: multitasking>=0.0.7 in c:\\users\\mick\\anaconda3\\lib\\site-packages (from yfinance) (0.0.9)\n",
      "Requirement already satisfied: requests>=2.20 in c:\\users\\mick\\anaconda3\\lib\\site-packages (from yfinance) (2.22.0)\n",
      "Requirement already satisfied: numpy>=1.15 in c:\\users\\mick\\anaconda3\\lib\\site-packages (from yfinance) (1.17.2)\n",
      "Requirement already satisfied: pytz>=2017.2 in c:\\users\\mick\\anaconda3\\lib\\site-packages (from pandas>=0.24->yfinance) (2019.3)\n",
      "Requirement already satisfied: python-dateutil>=2.6.1 in c:\\users\\mick\\anaconda3\\lib\\site-packages (from pandas>=0.24->yfinance) (2.8.0)\n",
      "Requirement already satisfied: chardet<3.1.0,>=3.0.2 in c:\\users\\mick\\anaconda3\\lib\\site-packages (from requests>=2.20->yfinance) (3.0.4)\n",
      "Requirement already satisfied: urllib3!=1.25.0,!=1.25.1,<1.26,>=1.21.1 in c:\\users\\mick\\anaconda3\\lib\\site-packages (from requests>=2.20->yfinance) (1.24.2)\n",
      "Requirement already satisfied: idna<2.9,>=2.5 in c:\\users\\mick\\anaconda3\\lib\\site-packages (from requests>=2.20->yfinance) (2.8)\n",
      "Requirement already satisfied: certifi>=2017.4.17 in c:\\users\\mick\\anaconda3\\lib\\site-packages (from requests>=2.20->yfinance) (2019.9.11)\n",
      "Requirement already satisfied: six>=1.5 in c:\\users\\mick\\anaconda3\\lib\\site-packages (from python-dateutil>=2.6.1->pandas>=0.24->yfinance) (1.12.0)\n",
      "Note: you may need to restart the kernel to use updated packages.\n"
     ]
    }
   ],
   "source": [
    "pip install yfinance"
   ]
  },
  {
   "cell_type": "code",
   "execution_count": 79,
   "metadata": {},
   "outputs": [],
   "source": [
    "import yfinance as yf"
   ]
  },
  {
   "cell_type": "code",
   "execution_count": 80,
   "metadata": {},
   "outputs": [
    {
     "name": "stdout",
     "output_type": "stream",
     "text": [
      "[*********************100%***********************]  5 of 5 completed\n"
     ]
    },
    {
     "data": {
      "text/html": [
       "<div>\n",
       "<style scoped>\n",
       "    .dataframe tbody tr th:only-of-type {\n",
       "        vertical-align: middle;\n",
       "    }\n",
       "\n",
       "    .dataframe tbody tr th {\n",
       "        vertical-align: top;\n",
       "    }\n",
       "\n",
       "    .dataframe thead th {\n",
       "        text-align: right;\n",
       "    }\n",
       "</style>\n",
       "<table border=\"1\" class=\"dataframe\">\n",
       "  <thead>\n",
       "    <tr style=\"text-align: right;\">\n",
       "      <th></th>\n",
       "      <th>AAPL</th>\n",
       "      <th>AMZN</th>\n",
       "      <th>FB</th>\n",
       "      <th>MSFT</th>\n",
       "      <th>^GSPC</th>\n",
       "    </tr>\n",
       "    <tr>\n",
       "      <th>Date</th>\n",
       "      <th></th>\n",
       "      <th></th>\n",
       "      <th></th>\n",
       "      <th></th>\n",
       "      <th></th>\n",
       "    </tr>\n",
       "  </thead>\n",
       "  <tbody>\n",
       "    <tr>\n",
       "      <td>2012-05-18</td>\n",
       "      <td>65.77</td>\n",
       "      <td>213.85</td>\n",
       "      <td>38.23</td>\n",
       "      <td>24.39</td>\n",
       "      <td>1295.22</td>\n",
       "    </tr>\n",
       "    <tr>\n",
       "      <td>2012-05-21</td>\n",
       "      <td>69.60</td>\n",
       "      <td>218.11</td>\n",
       "      <td>34.03</td>\n",
       "      <td>24.79</td>\n",
       "      <td>1315.99</td>\n",
       "    </tr>\n",
       "    <tr>\n",
       "      <td>2012-05-22</td>\n",
       "      <td>69.07</td>\n",
       "      <td>215.33</td>\n",
       "      <td>31.00</td>\n",
       "      <td>24.80</td>\n",
       "      <td>1316.63</td>\n",
       "    </tr>\n",
       "    <tr>\n",
       "      <td>2012-05-23</td>\n",
       "      <td>70.75</td>\n",
       "      <td>217.28</td>\n",
       "      <td>32.00</td>\n",
       "      <td>24.26</td>\n",
       "      <td>1318.86</td>\n",
       "    </tr>\n",
       "    <tr>\n",
       "      <td>2012-05-24</td>\n",
       "      <td>70.10</td>\n",
       "      <td>215.24</td>\n",
       "      <td>33.03</td>\n",
       "      <td>24.23</td>\n",
       "      <td>1320.68</td>\n",
       "    </tr>\n",
       "    <tr>\n",
       "      <td>2012-05-25</td>\n",
       "      <td>69.73</td>\n",
       "      <td>212.89</td>\n",
       "      <td>31.91</td>\n",
       "      <td>24.22</td>\n",
       "      <td>1317.82</td>\n",
       "    </tr>\n",
       "  </tbody>\n",
       "</table>\n",
       "</div>"
      ],
      "text/plain": [
       "             AAPL    AMZN     FB   MSFT    ^GSPC\n",
       "Date                                            \n",
       "2012-05-18  65.77  213.85  38.23  24.39  1295.22\n",
       "2012-05-21  69.60  218.11  34.03  24.79  1315.99\n",
       "2012-05-22  69.07  215.33  31.00  24.80  1316.63\n",
       "2012-05-23  70.75  217.28  32.00  24.26  1318.86\n",
       "2012-05-24  70.10  215.24  33.03  24.23  1320.68\n",
       "2012-05-25  69.73  212.89  31.91  24.22  1317.82"
      ]
     },
     "execution_count": 80,
     "metadata": {},
     "output_type": "execute_result"
    }
   ],
   "source": [
    "data = yf.download(['AAPL', \"FB\", \"MSFT\", \"AMZN\", \"^GSPC\"],'2012-05-18','2019-12-31')[\"Adj Close\"]\n",
    "\n",
    "data.round(2).head(6)\n",
    "#data.dtypes"
   ]
  },
  {
   "cell_type": "code",
   "execution_count": 130,
   "metadata": {},
   "outputs": [
    {
     "name": "stdout",
     "output_type": "stream",
     "text": [
      "<class 'pandas.core.frame.DataFrame'>\n",
      "DatetimeIndex: 1917 entries, 2012-05-18 to 2019-12-31\n",
      "Data columns (total 6 columns):\n",
      "AAPL     1917 non-null float64\n",
      "AMZN     1917 non-null float64\n",
      "FB       1917 non-null float64\n",
      "MSFT     1917 non-null float64\n",
      "^GSPC    1917 non-null float64\n",
      "RF       1917 non-null float64\n",
      "dtypes: float64(6)\n",
      "memory usage: 104.8 KB\n"
     ]
    },
    {
     "ename": "AttributeError",
     "evalue": "module 'numpy' has no attribute 'data'",
     "output_type": "error",
     "traceback": [
      "\u001b[1;31m---------------------------------------------------------------------------\u001b[0m",
      "\u001b[1;31mAttributeError\u001b[0m                            Traceback (most recent call last)",
      "\u001b[1;32m<ipython-input-130-ab8a32308e7d>\u001b[0m in \u001b[0;36m<module>\u001b[1;34m\u001b[0m\n\u001b[0;32m      1\u001b[0m \u001b[0mdata\u001b[0m\u001b[1;33m.\u001b[0m\u001b[0minfo\u001b[0m\u001b[1;33m(\u001b[0m\u001b[1;33m)\u001b[0m\u001b[1;33m\u001b[0m\u001b[1;33m\u001b[0m\u001b[0m\n\u001b[1;32m----> 2\u001b[1;33m \u001b[0mnp\u001b[0m\u001b[1;33m.\u001b[0m\u001b[0mdata\u001b[0m\u001b[1;33m[\u001b[0m\u001b[1;34m\"APPL\"\u001b[0m\u001b[1;33m]\u001b[0m\u001b[1;33m.\u001b[0m\u001b[0mmin\u001b[0m\u001b[1;33m(\u001b[0m\u001b[1;33m)\u001b[0m\u001b[1;33m\u001b[0m\u001b[1;33m\u001b[0m\u001b[0m\n\u001b[0m",
      "\u001b[1;31mAttributeError\u001b[0m: module 'numpy' has no attribute 'data'"
     ]
    }
   ],
   "source": [
    "data.info()\n",
    "np.data[\"APPL\"].min()"
   ]
  },
  {
   "cell_type": "code",
   "execution_count": 82,
   "metadata": {},
   "outputs": [
    {
     "data": {
      "text/plain": [
       "AAPL     0\n",
       "AMZN     0\n",
       "FB       0\n",
       "MSFT     0\n",
       "^GSPC    0\n",
       "dtype: int64"
      ]
     },
     "execution_count": 82,
     "metadata": {},
     "output_type": "execute_result"
    }
   ],
   "source": [
    "data.isna().sum()"
   ]
  },
  {
   "cell_type": "code",
   "execution_count": 83,
   "metadata": {},
   "outputs": [
    {
     "data": {
      "image/png": "[encoded data removed]",
      "text/plain": [
       "<Figure size 432x288 with 1 Axes>"
      ]
     },
     "metadata": {},
     "output_type": "display_data"
    }
   ],
   "source": [
    "import matplotlib.pyplot as plt\n",
    "%matplotlib inline\n",
    "from matplotlib import rcParams\n",
    "rcParams.update({'figure.autolayout': True})\n",
    "import pandas as pd\n",
    "with plt.style.context('fivethirtyeight'):\n",
    "    ax=data.plot(linewidth =2)\n",
    "    ax.tick_params(axis='both', which='major', labelsize=12)\n",
    "    plt.xlabel(\"Date\")\n",
    "    plt.ylabel(\"Stock Price\")\n",
    "    \n",
    "    plt.suptitle('Stock Price Variation', size=18, y=1.1,fontweight='bold');\n",
    "    plt.ylim(-200,3500)\n",
    "    plt.grid(True)\n",
    "    plt.legend(loc=2, prop={'size': 10})\n",
    "    plt.tight_layout(pad=0.4, w_pad=0.5, h_pad=1.0)\n",
    "plt.savefig(\"Stock Price Variation\", dpi = 150,bbox_inches =\"tight\")\n",
    "plt.show()"
   ]
  },
  {
   "cell_type": "code",
   "execution_count": 84,
   "metadata": {},
   "outputs": [
    {
     "name": "stdout",
     "output_type": "stream",
     "text": [
      "<class 'pandas.core.frame.DataFrame'>\n",
      "Index: 24644 entries, 19260701 to Copyright 2019 Kenneth R. French\n",
      "Data columns (total 4 columns):\n",
      "Mkt-RF    24643 non-null float64\n",
      "SMB       24643 non-null float64\n",
      "HML       24643 non-null float64\n",
      "RF        24643 non-null float64\n",
      "dtypes: float64(4)\n",
      "memory usage: 962.7+ KB\n"
     ]
    }
   ],
   "source": [
    "rf= pd.read_csv(\"F-F_Research_Data_Factors_daily.csv\", header=3, index_col=0)\n",
    "rf.info()"
   ]
  },
  {
   "cell_type": "code",
   "execution_count": 85,
   "metadata": {},
   "outputs": [],
   "source": [
    "rf = rf.loc[\"20120518\":]"
   ]
  },
  {
   "cell_type": "code",
   "execution_count": 86,
   "metadata": {},
   "outputs": [
    {
     "name": "stdout",
     "output_type": "stream",
     "text": [
      "<class 'pandas.core.frame.DataFrame'>\n",
      "Index: 1917 entries, 20120518 to 20191231\n",
      "Data columns (total 4 columns):\n",
      "Mkt-RF    1917 non-null float64\n",
      "SMB       1917 non-null float64\n",
      "HML       1917 non-null float64\n",
      "RF        1917 non-null float64\n",
      "dtypes: float64(4)\n",
      "memory usage: 74.9+ KB\n"
     ]
    }
   ],
   "source": [
    "rf = rf[:-1]\n",
    "rf.info()"
   ]
  },
  {
   "cell_type": "code",
   "execution_count": 87,
   "metadata": {},
   "outputs": [],
   "source": [
    "rf.index = data.index"
   ]
  },
  {
   "cell_type": "code",
   "execution_count": 88,
   "metadata": {},
   "outputs": [],
   "source": [
    "data[\"RF\"] = rf[\"RF\"]"
   ]
  },
  {
   "cell_type": "code",
   "execution_count": 89,
   "metadata": {},
   "outputs": [
    {
     "data": {
      "text/plain": [
       "AAPL     1917\n",
       "AMZN     1917\n",
       "FB       1917\n",
       "MSFT     1917\n",
       "^GSPC    1917\n",
       "RF       1917\n",
       "dtype: int64"
      ]
     },
     "execution_count": 89,
     "metadata": {},
     "output_type": "execute_result"
    }
   ],
   "source": [
    "data.FB[data.FB.isna() == False]\n",
    "data.count()"
   ]
  },
  {
   "cell_type": "code",
   "execution_count": 90,
   "metadata": {},
   "outputs": [
    {
     "data": {
      "text/html": [
       "<div>\n",
       "<style scoped>\n",
       "    .dataframe tbody tr th:only-of-type {\n",
       "        vertical-align: middle;\n",
       "    }\n",
       "\n",
       "    .dataframe tbody tr th {\n",
       "        vertical-align: top;\n",
       "    }\n",
       "\n",
       "    .dataframe thead th {\n",
       "        text-align: right;\n",
       "    }\n",
       "</style>\n",
       "<table border=\"1\" class=\"dataframe\">\n",
       "  <thead>\n",
       "    <tr style=\"text-align: right;\">\n",
       "      <th></th>\n",
       "      <th>AAPL</th>\n",
       "      <th>AMZN</th>\n",
       "      <th>FB</th>\n",
       "      <th>MSFT</th>\n",
       "      <th>^GSPC</th>\n",
       "      <th>RF</th>\n",
       "    </tr>\n",
       "    <tr>\n",
       "      <th>Date</th>\n",
       "      <th></th>\n",
       "      <th></th>\n",
       "      <th></th>\n",
       "      <th></th>\n",
       "      <th></th>\n",
       "      <th></th>\n",
       "    </tr>\n",
       "  </thead>\n",
       "  <tbody>\n",
       "    <tr>\n",
       "      <td>2012-05-18</td>\n",
       "      <td>65.770210</td>\n",
       "      <td>213.850006</td>\n",
       "      <td>38.230000</td>\n",
       "      <td>24.394806</td>\n",
       "      <td>1295.219971</td>\n",
       "      <td>0.0</td>\n",
       "    </tr>\n",
       "    <tr>\n",
       "      <td>2012-05-21</td>\n",
       "      <td>69.601997</td>\n",
       "      <td>218.110001</td>\n",
       "      <td>34.029999</td>\n",
       "      <td>24.794863</td>\n",
       "      <td>1315.989990</td>\n",
       "      <td>0.0</td>\n",
       "    </tr>\n",
       "    <tr>\n",
       "      <td>2012-05-22</td>\n",
       "      <td>69.067520</td>\n",
       "      <td>215.330002</td>\n",
       "      <td>31.000000</td>\n",
       "      <td>24.803186</td>\n",
       "      <td>1316.630005</td>\n",
       "      <td>0.0</td>\n",
       "    </tr>\n",
       "    <tr>\n",
       "      <td>2012-05-23</td>\n",
       "      <td>70.752777</td>\n",
       "      <td>217.279999</td>\n",
       "      <td>32.000000</td>\n",
       "      <td>24.261457</td>\n",
       "      <td>1318.859985</td>\n",
       "      <td>0.0</td>\n",
       "    </tr>\n",
       "    <tr>\n",
       "      <td>2012-05-24</td>\n",
       "      <td>70.102989</td>\n",
       "      <td>215.240005</td>\n",
       "      <td>33.029999</td>\n",
       "      <td>24.228115</td>\n",
       "      <td>1320.680054</td>\n",
       "      <td>0.0</td>\n",
       "    </tr>\n",
       "  </tbody>\n",
       "</table>\n",
       "</div>"
      ],
      "text/plain": [
       "                 AAPL        AMZN         FB       MSFT        ^GSPC   RF\n",
       "Date                                                                     \n",
       "2012-05-18  65.770210  213.850006  38.230000  24.394806  1295.219971  0.0\n",
       "2012-05-21  69.601997  218.110001  34.029999  24.794863  1315.989990  0.0\n",
       "2012-05-22  69.067520  215.330002  31.000000  24.803186  1316.630005  0.0\n",
       "2012-05-23  70.752777  217.279999  32.000000  24.261457  1318.859985  0.0\n",
       "2012-05-24  70.102989  215.240005  33.029999  24.228115  1320.680054  0.0"
      ]
     },
     "execution_count": 90,
     "metadata": {},
     "output_type": "execute_result"
    }
   ],
   "source": [
    "data.head()"
   ]
  },
  {
   "cell_type": "code",
   "execution_count": 91,
   "metadata": {},
   "outputs": [],
   "source": [
    "first_prices= data.iloc[0, :-1]"
   ]
  },
  {
   "cell_type": "code",
   "execution_count": 92,
   "metadata": {},
   "outputs": [],
   "source": [
    "normalized = data.iloc[:,:-1].div(first_prices) * 100"
   ]
  },
  {
   "cell_type": "code",
   "execution_count": 93,
   "metadata": {},
   "outputs": [
    {
     "name": "stdout",
     "output_type": "stream",
     "text": [
      "AAPL     345.421583\n",
      "AMZN     764.082260\n",
      "FB       436.882036\n",
      "MSFT     544.688185\n",
      "^GSPC    149.438713\n",
      "dtype: float64\n"
     ]
    }
   ],
   "source": [
    "# Total return for both stocks\n",
    "print((normalized.iloc[-1] / normalized.iloc[0] -1)*100)"
   ]
  },
  {
   "cell_type": "code",
   "execution_count": 94,
   "metadata": {},
   "outputs": [
    {
     "data": {
      "image/png": "[encoded data removed]",
      "text/plain": [
       "<Figure size 432x288 with 1 Axes>"
      ]
     },
     "metadata": {},
     "output_type": "display_data"
    }
   ],
   "source": [
    "with plt.style.context('fivethirtyeight'):\n",
    "    ax= normalized.plot(linewidth =2)\n",
    "ax.tick_params(axis='both', which='major', labelsize=12)\n",
    "plt.xlabel(\"Date\")\n",
    "plt.ylabel(\"Normalized Stock Price\")\n",
    "\n",
    "plt.ylim(-200,1200)\n",
    "plt.grid(True)\n",
    "plt.legend(loc=2, prop={'size': 10})\n",
    "plt.suptitle('Normalized Stock Price Variation', size=18, y=1.1,fontweight='bold');\n",
    "plt.tight_layout(pad=0.4, w_pad=0.5, h_pad=1.0)\n",
    "plt.savefig(\"Normalized Stock Variation\", dpi = 150,bbox_inches =\"tight\")\n",
    "plt.show()"
   ]
  },
  {
   "cell_type": "code",
   "execution_count": 95,
   "metadata": {},
   "outputs": [],
   "source": [
    "import numpy as np\n",
    "import pandas as pd"
   ]
  },
  {
   "cell_type": "code",
   "execution_count": 96,
   "metadata": {},
   "outputs": [
    {
     "data": {
      "text/html": [
       "<div>\n",
       "<style scoped>\n",
       "    .dataframe tbody tr th:only-of-type {\n",
       "        vertical-align: middle;\n",
       "    }\n",
       "\n",
       "    .dataframe tbody tr th {\n",
       "        vertical-align: top;\n",
       "    }\n",
       "\n",
       "    .dataframe thead th {\n",
       "        text-align: right;\n",
       "    }\n",
       "</style>\n",
       "<table border=\"1\" class=\"dataframe\">\n",
       "  <thead>\n",
       "    <tr style=\"text-align: right;\">\n",
       "      <th></th>\n",
       "      <th>AAPL</th>\n",
       "      <th>AMZN</th>\n",
       "      <th>FB</th>\n",
       "      <th>MSFT</th>\n",
       "      <th>^GSPC</th>\n",
       "    </tr>\n",
       "  </thead>\n",
       "  <tbody>\n",
       "    <tr>\n",
       "      <td>AAPL</td>\n",
       "      <td>1.000000</td>\n",
       "      <td>0.932422</td>\n",
       "      <td>0.899645</td>\n",
       "      <td>0.958338</td>\n",
       "      <td>0.947890</td>\n",
       "    </tr>\n",
       "    <tr>\n",
       "      <td>AMZN</td>\n",
       "      <td>0.932422</td>\n",
       "      <td>1.000000</td>\n",
       "      <td>0.906248</td>\n",
       "      <td>0.969482</td>\n",
       "      <td>0.936927</td>\n",
       "    </tr>\n",
       "    <tr>\n",
       "      <td>FB</td>\n",
       "      <td>0.899645</td>\n",
       "      <td>0.906248</td>\n",
       "      <td>1.000000</td>\n",
       "      <td>0.894073</td>\n",
       "      <td>0.960981</td>\n",
       "    </tr>\n",
       "    <tr>\n",
       "      <td>MSFT</td>\n",
       "      <td>0.958338</td>\n",
       "      <td>0.969482</td>\n",
       "      <td>0.894073</td>\n",
       "      <td>1.000000</td>\n",
       "      <td>0.946824</td>\n",
       "    </tr>\n",
       "    <tr>\n",
       "      <td>^GSPC</td>\n",
       "      <td>0.947890</td>\n",
       "      <td>0.936927</td>\n",
       "      <td>0.960981</td>\n",
       "      <td>0.946824</td>\n",
       "      <td>1.000000</td>\n",
       "    </tr>\n",
       "  </tbody>\n",
       "</table>\n",
       "</div>"
      ],
      "text/plain": [
       "           AAPL      AMZN        FB      MSFT     ^GSPC\n",
       "AAPL   1.000000  0.932422  0.899645  0.958338  0.947890\n",
       "AMZN   0.932422  1.000000  0.906248  0.969482  0.936927\n",
       "FB     0.899645  0.906248  1.000000  0.894073  0.960981\n",
       "MSFT   0.958338  0.969482  0.894073  1.000000  0.946824\n",
       "^GSPC  0.947890  0.936927  0.960981  0.946824  1.000000"
      ]
     },
     "execution_count": 96,
     "metadata": {},
     "output_type": "execute_result"
    }
   ],
   "source": [
    "normalized.corr()"
   ]
  },
  {
   "cell_type": "code",
   "execution_count": 97,
   "metadata": {},
   "outputs": [],
   "source": [
    "import seaborn as sns"
   ]
  },
  {
   "cell_type": "code",
   "execution_count": 98,
   "metadata": {},
   "outputs": [
    {
     "name": "stdout",
     "output_type": "stream",
     "text": [
      "       AAPL  AMZN   FB  MSFT  ^GSPC   RF\n",
      "AAPL    1.0  -0.4  0.3   0.8    0.7 -0.0\n",
      "AMZN   -0.4   1.0  0.2   0.0   -0.1  0.1\n",
      "FB      0.3   0.2  1.0   0.7    0.9 -0.5\n",
      "MSFT    0.8   0.0  0.7   1.0    0.9 -0.5\n",
      "^GSPC   0.7  -0.1  0.9   0.9    1.0 -0.5\n",
      "RF     -0.0   0.1 -0.5  -0.5   -0.5  1.0\n"
     ]
    },
    {
     "data": {
      "image/png": "[encoded data removed]",
      "text/plain": [
       "<Figure size 432x288 with 2 Axes>"
      ]
     },
     "metadata": {},
     "output_type": "display_data"
    }
   ],
   "source": [
    "# Heatmap of returns\n",
    "# Calculate year-end prices here\n",
    "annual_prices = data.resample(\"A\").last()\n",
    "\n",
    "# Calculate annual returns here\n",
    "correlations = round(annual_prices.pct_change().corr(),1)\n",
    "\n",
    "# Calculate and print the correlation matrix here\n",
    "\n",
    "print(correlations)\n",
    "\n",
    "# Visualize the correlations as heatmap here\n",
    "\n",
    "with plt.style.context('fivethirtyeight'):\n",
    "    ax =sns.heatmap(correlations, annot = False, vmin =0, center =1, vmax =1, cmap = 'Wistia', linewidths = 1, square = True,annot_kws={\"size\": 10})\n",
    "\n",
    "plt.suptitle('Stock Correlation Heatmap',size=18, y=1.1,fontweight='bold');\n",
    "\n",
    "plt.xticks(size=13, rotation = \"horizontal\")\n",
    "plt.yticks(size=13,rotation = \"horizontal\")\n",
    "\n",
    "plt.savefig(\"Stock Correlation Heatmap\", dpi = 100, bbox_inches =\"tight\")\n",
    "\n",
    "plt.show()\n"
   ]
  },
  {
   "cell_type": "code",
   "execution_count": 99,
   "metadata": {},
   "outputs": [],
   "source": [
    "#dailyreturns \n",
    "returns = data.iloc[:, :-1].pct_change().dropna()\n",
    "beta=returns.cov() / returns.var()"
   ]
  },
  {
   "cell_type": "code",
   "execution_count": 100,
   "metadata": {},
   "outputs": [
    {
     "data": {
      "text/html": [
       "<div>\n",
       "<style scoped>\n",
       "    .dataframe tbody tr th:only-of-type {\n",
       "        vertical-align: middle;\n",
       "    }\n",
       "\n",
       "    .dataframe tbody tr th {\n",
       "        vertical-align: top;\n",
       "    }\n",
       "\n",
       "    .dataframe thead th {\n",
       "        text-align: right;\n",
       "    }\n",
       "</style>\n",
       "<table border=\"1\" class=\"dataframe\">\n",
       "  <thead>\n",
       "    <tr style=\"text-align: right;\">\n",
       "      <th></th>\n",
       "      <th>AAPL</th>\n",
       "      <th>AMZN</th>\n",
       "      <th>FB</th>\n",
       "      <th>MSFT</th>\n",
       "      <th>^GSPC</th>\n",
       "    </tr>\n",
       "  </thead>\n",
       "  <tbody>\n",
       "    <tr>\n",
       "      <td>AAPL</td>\n",
       "      <td>1.00</td>\n",
       "      <td>0.33</td>\n",
       "      <td>0.20</td>\n",
       "      <td>0.49</td>\n",
       "      <td>1.14</td>\n",
       "    </tr>\n",
       "    <tr>\n",
       "      <td>AMZN</td>\n",
       "      <td>0.43</td>\n",
       "      <td>1.00</td>\n",
       "      <td>0.32</td>\n",
       "      <td>0.65</td>\n",
       "      <td>1.32</td>\n",
       "    </tr>\n",
       "    <tr>\n",
       "      <td>FB</td>\n",
       "      <td>0.41</td>\n",
       "      <td>0.50</td>\n",
       "      <td>1.00</td>\n",
       "      <td>0.50</td>\n",
       "      <td>1.13</td>\n",
       "    </tr>\n",
       "    <tr>\n",
       "      <td>MSFT</td>\n",
       "      <td>0.40</td>\n",
       "      <td>0.40</td>\n",
       "      <td>0.20</td>\n",
       "      <td>1.00</td>\n",
       "      <td>1.23</td>\n",
       "    </tr>\n",
       "    <tr>\n",
       "      <td>^GSPC</td>\n",
       "      <td>0.30</td>\n",
       "      <td>0.26</td>\n",
       "      <td>0.14</td>\n",
       "      <td>0.39</td>\n",
       "      <td>1.00</td>\n",
       "    </tr>\n",
       "  </tbody>\n",
       "</table>\n",
       "</div>"
      ],
      "text/plain": [
       "       AAPL  AMZN    FB  MSFT  ^GSPC\n",
       "AAPL   1.00  0.33  0.20  0.49   1.14\n",
       "AMZN   0.43  1.00  0.32  0.65   1.32\n",
       "FB     0.41  0.50  1.00  0.50   1.13\n",
       "MSFT   0.40  0.40  0.20  1.00   1.23\n",
       "^GSPC  0.30  0.26  0.14  0.39   1.00"
      ]
     },
     "execution_count": 100,
     "metadata": {},
     "output_type": "execute_result"
    }
   ],
   "source": [
    "#betas of companies (the last column)_ daily data without rf \n",
    "round(beta,2)"
   ]
  },
  {
   "cell_type": "code",
   "execution_count": 101,
   "metadata": {},
   "outputs": [],
   "source": [
    "#Add risk free rate to the \"data\" df\n",
    "returns[\"RF\"] = data.iloc[1:, 5]"
   ]
  },
  {
   "cell_type": "code",
   "execution_count": 102,
   "metadata": {},
   "outputs": [],
   "source": [
    "#Add excess return\n",
    "returns[\"Rm-Rf\"] = returns[\"^GSPC\"] - returns[\"RF\"]    "
   ]
  },
  {
   "cell_type": "code",
   "execution_count": 103,
   "metadata": {},
   "outputs": [],
   "source": [
    "#Determine dependent variables\n",
    "exo = returns.columns[0:4]"
   ]
  },
  {
   "cell_type": "code",
   "execution_count": 104,
   "metadata": {},
   "outputs": [
    {
     "data": {
      "text/plain": [
       "Index([], dtype='object')"
      ]
     },
     "execution_count": 104,
     "metadata": {},
     "output_type": "execute_result"
    }
   ],
   "source": [
    "returns.columns[7:]"
   ]
  },
  {
   "cell_type": "code",
   "execution_count": 105,
   "metadata": {},
   "outputs": [
    {
     "data": {
      "text/plain": [
       "Index(['AAPL', 'AMZN', 'FB', 'MSFT', '^GSPC', 'RF', 'Rm-Rf'], dtype='object')"
      ]
     },
     "execution_count": 105,
     "metadata": {},
     "output_type": "execute_result"
    }
   ],
   "source": [
    "returns.columns"
   ]
  },
  {
   "cell_type": "code",
   "execution_count": 106,
   "metadata": {},
   "outputs": [],
   "source": [
    "#Find the excess return for all stocks \n",
    "for i in range(0, len(returns.columns)-3):\n",
    "    returns[returns.columns[i] + \"_excess\"] = returns.iloc[:, i] - returns.RF"
   ]
  },
  {
   "cell_type": "code",
   "execution_count": 107,
   "metadata": {},
   "outputs": [],
   "source": [
    "import statsmodels.api as sm"
   ]
  },
  {
   "cell_type": "code",
   "execution_count": 108,
   "metadata": {},
   "outputs": [],
   "source": [
    "#Determine the independent variable\n",
    "endo= returns[\"Rm-Rf\"]"
   ]
  },
  {
   "cell_type": "code",
   "execution_count": 109,
   "metadata": {},
   "outputs": [],
   "source": [
    "exo= returns[returns.columns[7:]]"
   ]
  },
  {
   "cell_type": "code",
   "execution_count": 110,
   "metadata": {},
   "outputs": [
    {
     "name": "stderr",
     "output_type": "stream",
     "text": [
      "C:\\Users\\Mick\\Anaconda3\\lib\\site-packages\\numpy\\core\\fromnumeric.py:2495: FutureWarning: Method .ptp is deprecated and will be removed in a future version. Use numpy.ptp instead.\n",
      "  return ptp(axis=axis, out=out, **kwargs)\n"
     ]
    }
   ],
   "source": [
    "endo = sm.add_constant(endo)"
   ]
  },
  {
   "cell_type": "code",
   "execution_count": 111,
   "metadata": {},
   "outputs": [],
   "source": [
    "CAPM_intercept = []\n",
    "CAPM_beta= []\n",
    "CAPM_pvalues_intercept = []\n",
    "CAPM_pvalues_beta = []\n",
    "for var in exo.columns:\n",
    "    CAPM_intercept.append(sm.OLS(exo[var], endo).fit().params[0])\n",
    "    CAPM_beta.append(sm.OLS(exo[var], endo).fit().params[1])\n",
    "    CAPM_pvalues_intercept.append(sm.OLS(exo[var], endo).fit().pvalues[0])\n",
    "    CAPM_pvalues_beta.append(sm.OLS(exo[var], endo).fit().pvalues[1])"
   ]
  },
  {
   "cell_type": "code",
   "execution_count": 112,
   "metadata": {},
   "outputs": [],
   "source": [
    "#del CAPM_params\n",
    "#del CAPM_pvalues"
   ]
  },
  {
   "cell_type": "code",
   "execution_count": 113,
   "metadata": {},
   "outputs": [
    {
     "data": {
      "text/plain": [
       "[1.1038323995805803, 1.277243536583954, 1.1218702203719468, 1.1812926391622494]"
      ]
     },
     "execution_count": 113,
     "metadata": {},
     "output_type": "execute_result"
    }
   ],
   "source": [
    "CAPM_beta"
   ]
  },
  {
   "cell_type": "code",
   "execution_count": 114,
   "metadata": {},
   "outputs": [
    {
     "data": {
      "text/plain": [
       "Index(['AAPL_excess', 'AMZN_excess', 'FB_excess', 'MSFT_excess'], dtype='object')"
      ]
     },
     "execution_count": 114,
     "metadata": {},
     "output_type": "execute_result"
    }
   ],
   "source": [
    "exo.columns"
   ]
  },
  {
   "cell_type": "code",
   "execution_count": 115,
   "metadata": {},
   "outputs": [],
   "source": [
    "intercept = [*zip(CAPM_intercept, CAPM_pvalues_intercept)]"
   ]
  },
  {
   "cell_type": "code",
   "execution_count": 116,
   "metadata": {},
   "outputs": [],
   "source": [
    "intercept_results = [*zip(exo.columns, intercept)]"
   ]
  },
  {
   "cell_type": "code",
   "execution_count": 117,
   "metadata": {},
   "outputs": [],
   "source": [
    "beta = [*zip(CAPM_beta, CAPM_pvalues_beta)]"
   ]
  },
  {
   "cell_type": "code",
   "execution_count": 118,
   "metadata": {},
   "outputs": [],
   "source": [
    "beta_results = [*zip(exo.columns, beta)]"
   ]
  },
  {
   "cell_type": "code",
   "execution_count": 119,
   "metadata": {},
   "outputs": [
    {
     "data": {
      "text/plain": [
       "[('AAPL_excess', (0.0006127362886227249, 0.044816664088125964)),\n",
       " ('AMZN_excess', (0.0013593096657508418, 0.00011218476867571907)),\n",
       " ('FB_excess', (0.0008761559026515028, 0.07381420399314163)),\n",
       " ('MSFT_excess', (0.0009425203620799453, 0.00011772331897297481))]"
      ]
     },
     "execution_count": 119,
     "metadata": {},
     "output_type": "execute_result"
    }
   ],
   "source": [
    "intercept_results"
   ]
  },
  {
   "cell_type": "code",
   "execution_count": 120,
   "metadata": {},
   "outputs": [
    {
     "data": {
      "text/plain": [
       "[('AAPL_excess', (1.1038323995805803, 7.352993775916826e-187)),\n",
       " ('AMZN_excess', (1.277243536583954, 1.5934206406582698e-188)),\n",
       " ('FB_excess', (1.1218702203719468, 3.400822032174937e-86)),\n",
       " ('MSFT_excess', (1.1812926391622494, 2.1621123814548646e-290))]"
      ]
     },
     "execution_count": 120,
     "metadata": {},
     "output_type": "execute_result"
    }
   ],
   "source": [
    "beta_results"
   ]
  },
  {
   "cell_type": "code",
   "execution_count": 121,
   "metadata": {},
   "outputs": [
    {
     "data": {
      "text/plain": [
       "Date\n",
       "2012-05-21    0.019920\n",
       "2012-05-22   -0.012746\n",
       "2012-05-23    0.009056\n",
       "2012-05-24   -0.009389\n",
       "2012-05-25   -0.010918\n",
       "                ...   \n",
       "2019-12-24   -0.002114\n",
       "2019-12-26    0.044467\n",
       "2019-12-27    0.000551\n",
       "2019-12-30   -0.012253\n",
       "2019-12-31    0.000514\n",
       "Name: AMZN, Length: 1916, dtype: float64"
      ]
     },
     "execution_count": 121,
     "metadata": {},
     "output_type": "execute_result"
    }
   ],
   "source": [
    "returns[returns.columns[1]]"
   ]
  },
  {
   "cell_type": "code",
   "execution_count": 122,
   "metadata": {},
   "outputs": [],
   "source": [
    "#Find the excess return over SP500 for all stocks \n",
    "for i in range(0, len(returns.columns[:4])):\n",
    "               returns[returns.columns[i] + \"_benchmark\"] = returns.iloc[:, i] - returns[\"^GSPC\"]\n",
    "               "
   ]
  },
  {
   "cell_type": "code",
   "execution_count": 123,
   "metadata": {},
   "outputs": [],
   "source": [
    "annualized_ex_Ret=round(returns[returns.columns[-4:]].mean()*36500,2)"
   ]
  },
  {
   "cell_type": "code",
   "execution_count": 124,
   "metadata": {},
   "outputs": [
    {
     "data": {
      "text/plain": [
       "AAPL_benchmark    14.50\n",
       "AMZN_benchmark    28.60\n",
       "FB_benchmark      22.74\n",
       "MSFT_benchmark    20.66\n",
       "dtype: float64"
      ]
     },
     "execution_count": 124,
     "metadata": {},
     "output_type": "execute_result"
    }
   ],
   "source": [
    "annualized_ex_Ret"
   ]
  },
  {
   "cell_type": "code",
   "execution_count": 125,
   "metadata": {},
   "outputs": [
    {
     "data": {
      "text/plain": [
       "AAPL_benchmark    0.582329\n",
       "AMZN_benchmark    0.987910\n",
       "FB_benchmark      0.569782\n",
       "MSFT_benchmark    1.027350\n",
       "dtype: float64"
      ]
     },
     "execution_count": 125,
     "metadata": {},
     "output_type": "execute_result"
    }
   ],
   "source": [
    "#Find IR for all stocks\n",
    "\n",
    "annualized_std_Dev=round(returns[returns.columns[-4:]].std()*100*365**0.5,2)\n",
    "annualized_ex_Ret/annualized_std_Dev"
   ]
  },
  {
   "cell_type": "code",
   "execution_count": 126,
   "metadata": {},
   "outputs": [
    {
     "data": {
      "text/html": [
       "<div>\n",
       "<style scoped>\n",
       "    .dataframe tbody tr th:only-of-type {\n",
       "        vertical-align: middle;\n",
       "    }\n",
       "\n",
       "    .dataframe tbody tr th {\n",
       "        vertical-align: top;\n",
       "    }\n",
       "\n",
       "    .dataframe thead th {\n",
       "        text-align: right;\n",
       "    }\n",
       "</style>\n",
       "<table border=\"1\" class=\"dataframe\">\n",
       "  <thead>\n",
       "    <tr style=\"text-align: right;\">\n",
       "      <th></th>\n",
       "      <th>AAPL</th>\n",
       "      <th>AMZN</th>\n",
       "      <th>FB</th>\n",
       "      <th>MSFT</th>\n",
       "      <th>^GSPC</th>\n",
       "      <th>RF</th>\n",
       "      <th>Rm-Rf</th>\n",
       "      <th>AAPL_excess</th>\n",
       "      <th>AMZN_excess</th>\n",
       "      <th>FB_excess</th>\n",
       "      <th>MSFT_excess</th>\n",
       "      <th>AAPL_benchmark</th>\n",
       "      <th>AMZN_benchmark</th>\n",
       "      <th>FB_benchmark</th>\n",
       "      <th>MSFT_benchmark</th>\n",
       "    </tr>\n",
       "    <tr>\n",
       "      <th>Date</th>\n",
       "      <th></th>\n",
       "      <th></th>\n",
       "      <th></th>\n",
       "      <th></th>\n",
       "      <th></th>\n",
       "      <th></th>\n",
       "      <th></th>\n",
       "      <th></th>\n",
       "      <th></th>\n",
       "      <th></th>\n",
       "      <th></th>\n",
       "      <th></th>\n",
       "      <th></th>\n",
       "      <th></th>\n",
       "      <th></th>\n",
       "    </tr>\n",
       "  </thead>\n",
       "  <tbody>\n",
       "    <tr>\n",
       "      <td>April</td>\n",
       "      <td>0.000058</td>\n",
       "      <td>0.002206</td>\n",
       "      <td>0.002557</td>\n",
       "      <td>0.002701</td>\n",
       "      <td>0.000612</td>\n",
       "      <td>0.002836</td>\n",
       "      <td>-0.002223</td>\n",
       "      <td>-0.002778</td>\n",
       "      <td>-0.000630</td>\n",
       "      <td>-0.000278</td>\n",
       "      <td>-0.000135</td>\n",
       "      <td>-0.000555</td>\n",
       "      <td>0.001593</td>\n",
       "      <td>0.001945</td>\n",
       "      <td>0.002089</td>\n",
       "    </tr>\n",
       "    <tr>\n",
       "      <td>August</td>\n",
       "      <td>0.002763</td>\n",
       "      <td>0.000708</td>\n",
       "      <td>-0.000269</td>\n",
       "      <td>0.001379</td>\n",
       "      <td>-0.000124</td>\n",
       "      <td>0.002416</td>\n",
       "      <td>-0.002539</td>\n",
       "      <td>0.000347</td>\n",
       "      <td>-0.001708</td>\n",
       "      <td>-0.002685</td>\n",
       "      <td>-0.001036</td>\n",
       "      <td>0.002886</td>\n",
       "      <td>0.000832</td>\n",
       "      <td>-0.000145</td>\n",
       "      <td>0.001503</td>\n",
       "    </tr>\n",
       "    <tr>\n",
       "      <td>December</td>\n",
       "      <td>-0.001523</td>\n",
       "      <td>-0.000815</td>\n",
       "      <td>0.000324</td>\n",
       "      <td>-0.000043</td>\n",
       "      <td>-0.000147</td>\n",
       "      <td>0.002759</td>\n",
       "      <td>-0.002907</td>\n",
       "      <td>-0.004282</td>\n",
       "      <td>-0.003574</td>\n",
       "      <td>-0.002435</td>\n",
       "      <td>-0.002802</td>\n",
       "      <td>-0.001376</td>\n",
       "      <td>-0.000667</td>\n",
       "      <td>0.000471</td>\n",
       "      <td>0.000105</td>\n",
       "    </tr>\n",
       "    <tr>\n",
       "      <td>February</td>\n",
       "      <td>0.002805</td>\n",
       "      <td>0.000425</td>\n",
       "      <td>-0.000477</td>\n",
       "      <td>0.000984</td>\n",
       "      <td>0.001005</td>\n",
       "      <td>0.002701</td>\n",
       "      <td>-0.001697</td>\n",
       "      <td>0.000103</td>\n",
       "      <td>-0.002276</td>\n",
       "      <td>-0.003178</td>\n",
       "      <td>-0.001718</td>\n",
       "      <td>0.001800</td>\n",
       "      <td>-0.000580</td>\n",
       "      <td>-0.001482</td>\n",
       "      <td>-0.000021</td>\n",
       "    </tr>\n",
       "    <tr>\n",
       "      <td>January</td>\n",
       "      <td>-0.001097</td>\n",
       "      <td>0.003054</td>\n",
       "      <td>0.005646</td>\n",
       "      <td>0.000609</td>\n",
       "      <td>0.000587</td>\n",
       "      <td>0.002483</td>\n",
       "      <td>-0.001896</td>\n",
       "      <td>-0.003580</td>\n",
       "      <td>0.000572</td>\n",
       "      <td>0.003163</td>\n",
       "      <td>-0.001873</td>\n",
       "      <td>-0.001684</td>\n",
       "      <td>0.002467</td>\n",
       "      <td>0.005059</td>\n",
       "      <td>0.000023</td>\n",
       "    </tr>\n",
       "    <tr>\n",
       "      <td>July</td>\n",
       "      <td>0.002391</td>\n",
       "      <td>0.002435</td>\n",
       "      <td>0.002234</td>\n",
       "      <td>0.001391</td>\n",
       "      <td>0.001005</td>\n",
       "      <td>0.002741</td>\n",
       "      <td>-0.001736</td>\n",
       "      <td>-0.000350</td>\n",
       "      <td>-0.000306</td>\n",
       "      <td>-0.000507</td>\n",
       "      <td>-0.001350</td>\n",
       "      <td>0.001387</td>\n",
       "      <td>0.001431</td>\n",
       "      <td>0.001230</td>\n",
       "      <td>0.000386</td>\n",
       "    </tr>\n",
       "    <tr>\n",
       "      <td>June</td>\n",
       "      <td>-0.000615</td>\n",
       "      <td>0.001403</td>\n",
       "      <td>0.001755</td>\n",
       "      <td>0.000233</td>\n",
       "      <td>0.000619</td>\n",
       "      <td>0.002331</td>\n",
       "      <td>-0.001713</td>\n",
       "      <td>-0.002946</td>\n",
       "      <td>-0.000929</td>\n",
       "      <td>-0.000576</td>\n",
       "      <td>-0.002098</td>\n",
       "      <td>-0.001234</td>\n",
       "      <td>0.000784</td>\n",
       "      <td>0.001137</td>\n",
       "      <td>-0.000386</td>\n",
       "    </tr>\n",
       "    <tr>\n",
       "      <td>March</td>\n",
       "      <td>0.001358</td>\n",
       "      <td>0.000581</td>\n",
       "      <td>-0.000619</td>\n",
       "      <td>0.001135</td>\n",
       "      <td>0.000556</td>\n",
       "      <td>0.002400</td>\n",
       "      <td>-0.001844</td>\n",
       "      <td>-0.001042</td>\n",
       "      <td>-0.001819</td>\n",
       "      <td>-0.003019</td>\n",
       "      <td>-0.001265</td>\n",
       "      <td>0.000802</td>\n",
       "      <td>0.000025</td>\n",
       "      <td>-0.001175</td>\n",
       "      <td>0.000579</td>\n",
       "    </tr>\n",
       "    <tr>\n",
       "      <td>May</td>\n",
       "      <td>0.002372</td>\n",
       "      <td>0.001486</td>\n",
       "      <td>-0.001563</td>\n",
       "      <td>0.001008</td>\n",
       "      <td>0.000298</td>\n",
       "      <td>0.002639</td>\n",
       "      <td>-0.002341</td>\n",
       "      <td>-0.000267</td>\n",
       "      <td>-0.001153</td>\n",
       "      <td>-0.004202</td>\n",
       "      <td>-0.001631</td>\n",
       "      <td>0.002074</td>\n",
       "      <td>0.001188</td>\n",
       "      <td>-0.001861</td>\n",
       "      <td>0.000710</td>\n",
       "    </tr>\n",
       "    <tr>\n",
       "      <td>November</td>\n",
       "      <td>0.000284</td>\n",
       "      <td>0.002616</td>\n",
       "      <td>0.001053</td>\n",
       "      <td>0.001380</td>\n",
       "      <td>0.001054</td>\n",
       "      <td>0.002411</td>\n",
       "      <td>-0.001357</td>\n",
       "      <td>-0.002127</td>\n",
       "      <td>0.000205</td>\n",
       "      <td>-0.001358</td>\n",
       "      <td>-0.001031</td>\n",
       "      <td>-0.000770</td>\n",
       "      <td>0.001562</td>\n",
       "      <td>-0.000001</td>\n",
       "      <td>0.000326</td>\n",
       "    </tr>\n",
       "    <tr>\n",
       "      <td>October</td>\n",
       "      <td>0.001785</td>\n",
       "      <td>0.000793</td>\n",
       "      <td>0.000918</td>\n",
       "      <td>0.001937</td>\n",
       "      <td>0.000470</td>\n",
       "      <td>0.002551</td>\n",
       "      <td>-0.002080</td>\n",
       "      <td>-0.000765</td>\n",
       "      <td>-0.001758</td>\n",
       "      <td>-0.001632</td>\n",
       "      <td>-0.000613</td>\n",
       "      <td>0.001315</td>\n",
       "      <td>0.000322</td>\n",
       "      <td>0.000448</td>\n",
       "      <td>0.001467</td>\n",
       "    </tr>\n",
       "    <tr>\n",
       "      <td>September</td>\n",
       "      <td>0.000168</td>\n",
       "      <td>0.000820</td>\n",
       "      <td>0.002341</td>\n",
       "      <td>0.000219</td>\n",
       "      <td>0.000339</td>\n",
       "      <td>0.002814</td>\n",
       "      <td>-0.002474</td>\n",
       "      <td>-0.002646</td>\n",
       "      <td>-0.001994</td>\n",
       "      <td>-0.000473</td>\n",
       "      <td>-0.002594</td>\n",
       "      <td>-0.000172</td>\n",
       "      <td>0.000481</td>\n",
       "      <td>0.002002</td>\n",
       "      <td>-0.000120</td>\n",
       "    </tr>\n",
       "  </tbody>\n",
       "</table>\n",
       "</div>"
      ],
      "text/plain": [
       "               AAPL      AMZN        FB      MSFT     ^GSPC        RF  \\\n",
       "Date                                                                    \n",
       "April      0.000058  0.002206  0.002557  0.002701  0.000612  0.002836   \n",
       "August     0.002763  0.000708 -0.000269  0.001379 -0.000124  0.002416   \n",
       "December  -0.001523 -0.000815  0.000324 -0.000043 -0.000147  0.002759   \n",
       "February   0.002805  0.000425 -0.000477  0.000984  0.001005  0.002701   \n",
       "January   -0.001097  0.003054  0.005646  0.000609  0.000587  0.002483   \n",
       "July       0.002391  0.002435  0.002234  0.001391  0.001005  0.002741   \n",
       "June      -0.000615  0.001403  0.001755  0.000233  0.000619  0.002331   \n",
       "March      0.001358  0.000581 -0.000619  0.001135  0.000556  0.002400   \n",
       "May        0.002372  0.001486 -0.001563  0.001008  0.000298  0.002639   \n",
       "November   0.000284  0.002616  0.001053  0.001380  0.001054  0.002411   \n",
       "October    0.001785  0.000793  0.000918  0.001937  0.000470  0.002551   \n",
       "September  0.000168  0.000820  0.002341  0.000219  0.000339  0.002814   \n",
       "\n",
       "              Rm-Rf  AAPL_excess  AMZN_excess  FB_excess  MSFT_excess  \\\n",
       "Date                                                                    \n",
       "April     -0.002223    -0.002778    -0.000630  -0.000278    -0.000135   \n",
       "August    -0.002539     0.000347    -0.001708  -0.002685    -0.001036   \n",
       "December  -0.002907    -0.004282    -0.003574  -0.002435    -0.002802   \n",
       "February  -0.001697     0.000103    -0.002276  -0.003178    -0.001718   \n",
       "January   -0.001896    -0.003580     0.000572   0.003163    -0.001873   \n",
       "July      -0.001736    -0.000350    -0.000306  -0.000507    -0.001350   \n",
       "June      -0.001713    -0.002946    -0.000929  -0.000576    -0.002098   \n",
       "March     -0.001844    -0.001042    -0.001819  -0.003019    -0.001265   \n",
       "May       -0.002341    -0.000267    -0.001153  -0.004202    -0.001631   \n",
       "November  -0.001357    -0.002127     0.000205  -0.001358    -0.001031   \n",
       "October   -0.002080    -0.000765    -0.001758  -0.001632    -0.000613   \n",
       "September -0.002474    -0.002646    -0.001994  -0.000473    -0.002594   \n",
       "\n",
       "           AAPL_benchmark  AMZN_benchmark  FB_benchmark  MSFT_benchmark  \n",
       "Date                                                                     \n",
       "April           -0.000555        0.001593      0.001945        0.002089  \n",
       "August           0.002886        0.000832     -0.000145        0.001503  \n",
       "December        -0.001376       -0.000667      0.000471        0.000105  \n",
       "February         0.001800       -0.000580     -0.001482       -0.000021  \n",
       "January         -0.001684        0.002467      0.005059        0.000023  \n",
       "July             0.001387        0.001431      0.001230        0.000386  \n",
       "June            -0.001234        0.000784      0.001137       -0.000386  \n",
       "March            0.000802        0.000025     -0.001175        0.000579  \n",
       "May              0.002074        0.001188     -0.001861        0.000710  \n",
       "November        -0.000770        0.001562     -0.000001        0.000326  \n",
       "October          0.001315        0.000322      0.000448        0.001467  \n",
       "September       -0.000172        0.000481      0.002002       -0.000120  "
      ]
     },
     "execution_count": 126,
     "metadata": {},
     "output_type": "execute_result"
    }
   ],
   "source": [
    "returns.groupby(returns.index.month_name()).mean()\n"
   ]
  },
  {
   "cell_type": "code",
   "execution_count": 128,
   "metadata": {},
   "outputs": [
    {
     "data": {
      "image/png": "[encoded data removed]",
      "text/plain": [
       "<Figure size 432x288 with 1 Axes>"
      ]
     },
     "metadata": {},
     "output_type": "display_data"
    }
   ],
   "source": [
    "#Optional: The avg return based on DoW\n",
    "#Monday anomaly is it true?\n",
    "\n",
    "meanReturn_byday= returns[returns.columns[:5]].groupby(returns.index.day_name()).mean()\n",
    "meanReturn_byday = meanReturn_byday.reindex([ \"Friday\", \"Monday\", \"Tuesday\", \"Wednesday\", \"Thursday\"])\n",
    "with plt.style.context('fivethirtyeight'):\n",
    "    ax = meanReturn_byday.plot(linewidth =2)\n",
    "#plt.title(\"Average Return (DoW Based)\")\n",
    "\n",
    "ax.tick_params(axis='x', which='major', labelsize=12)\n",
    "plt.suptitle('Monday Effect', size=18, y=1.1,fontweight='bold');\n",
    "#plt.xticks([],[])\n",
    "plt.xlabel(\"Date\", size =15, labelpad =10)\n",
    "plt.ylabel(\"Average Return\", size =15)\n",
    "#plt.legend(fontsize=8)\n",
    "plt.grid(True)\n",
    "plt.legend(loc=2, prop={'size': 8})\n",
    "\n",
    "plt.xticks(rotation=20)\n",
    "plt.savefig(\"Monday Effect\", dpi = 150,bbox_inches =\"tight\")\n",
    "plt.show()\n",
    "\n"
   ]
  },
  {
   "cell_type": "code",
   "execution_count": null,
   "metadata": {},
   "outputs": [],
   "source": [
    "#Optional: The avg return based on months\n",
    "meanReturn_bymonth= returns[returns.columns[:5]].groupby(returns.index.month).mean()\n",
    "with plt.style.context('fivethirtyeight'):\n",
    "    ax =meanReturn_bymonth.plot(linewidth =2)\n",
    "ax.tick_params(axis='both', which='major', labelsize=12)\n",
    "#plt.title(\"Average Monthly Return variation\")\n",
    "plt.suptitle('Average Monthly Return variation', size=18, y=1.1,fontweight='bold');\n",
    "\n",
    "plt.xlabel(\"Month\", size =15)\n",
    "plt.ylabel(\"Average Return\", size =15)\n",
    "plt.legend(fontsize=8)\n",
    "plt.grid(True)\n",
    "\n",
    "plt.savefig(\"Average Monthly Return Variation\", dpi = 150,bbox_inches =\"tight\")\n",
    "plt.show()"
   ]
  },
  {
   "cell_type": "code",
   "execution_count": null,
   "metadata": {},
   "outputs": [],
   "source": [
    "#When to buy Moving Average short(20) vs. MA long(100) for AMZN\n",
    "data[\"APPL\"] = data.AAPL.iloc[:-1]"
   ]
  },
  {
   "cell_type": "code",
   "execution_count": null,
   "metadata": {},
   "outputs": [],
   "source": [
    "aa = data.AAPL.rolling(42).mean()"
   ]
  },
  {
   "cell_type": "code",
   "execution_count": null,
   "metadata": {},
   "outputs": [],
   "source": [
    "bb = data.AAPL.rolling(252).mean()"
   ]
  },
  {
   "cell_type": "code",
   "execution_count": null,
   "metadata": {},
   "outputs": [],
   "source": [
    "apple = pd.concat([aa, bb, data.AAPL], axis=1)"
   ]
  },
  {
   "cell_type": "code",
   "execution_count": null,
   "metadata": {},
   "outputs": [],
   "source": [
    "apple.columns = [\"MA42\", \"MA252\", \"Close\"]"
   ]
  },
  {
   "cell_type": "code",
   "execution_count": null,
   "metadata": {},
   "outputs": [],
   "source": [
    "#apple.head(1)"
   ]
  },
  {
   "cell_type": "code",
   "execution_count": null,
   "metadata": {},
   "outputs": [],
   "source": [
    "# Plot moving averages for APPL stock\n",
    "with plt.style.context('fivethirtyeight'):\n",
    "    ax =apple[[\"MA42\", \"MA252\"]].dropna().plot(linewidth =2)\n",
    "ax.tick_params(axis='both', which='major', labelsize=12)\n",
    "\n",
    "plt.suptitle('Apple Moving Average', size=18, y=1.1,fontweight='bold');\n",
    "plt.xlabel(\"Time\", size =15)\n",
    "plt.ylabel(\"Moving Average\", size =15)\n",
    "plt.grid(True)\n",
    "plt.savefig(\"Moving Average Apple\", dpi = 150,bbox_inches =\"tight\")\n",
    "plt.show()"
   ]
  },
  {
   "cell_type": "code",
   "execution_count": null,
   "metadata": {},
   "outputs": [],
   "source": [
    "#apple.Close.plot()\n",
    "#plt.show()"
   ]
  },
  {
   "cell_type": "code",
   "execution_count": null,
   "metadata": {},
   "outputs": [],
   "source": [
    "#Trading strategy based on MA(42) and MA(252)\n",
    "apple[\"MA42-MA252\"] = apple.MA42 - apple.MA252\n"
   ]
  },
  {
   "cell_type": "code",
   "execution_count": null,
   "metadata": {},
   "outputs": [],
   "source": [
    "apple[\"MA42-MA252\"].describe()"
   ]
  },
  {
   "cell_type": "code",
   "execution_count": null,
   "metadata": {},
   "outputs": [],
   "source": [
    "Threshold = 0\n",
    "\n",
    "apple[\"signal\"] = np.where(apple[\"MA42-MA252\"]> Threshold, 1, 0)\n"
   ]
  },
  {
   "cell_type": "code",
   "execution_count": null,
   "metadata": {},
   "outputs": [],
   "source": [
    "apple[\"signal\"] = np.where(apple[\"MA42-MA252\"]< -Threshold, -1, apple.signal)"
   ]
  },
  {
   "cell_type": "code",
   "execution_count": null,
   "metadata": {},
   "outputs": [],
   "source": [
    "apple[\"MA42-MA252\"].tail()"
   ]
  },
  {
   "cell_type": "code",
   "execution_count": null,
   "metadata": {},
   "outputs": [],
   "source": [
    "apple.signal.value_counts()"
   ]
  },
  {
   "cell_type": "code",
   "execution_count": null,
   "metadata": {},
   "outputs": [],
   "source": [
    "#signals of buy and sell\n",
    "#extracted from the book \"python for finance\" \n",
    "#apple.signal.plot()\n",
    "#plt.show()"
   ]
  },
  {
   "cell_type": "code",
   "execution_count": null,
   "metadata": {},
   "outputs": [],
   "source": [
    "#returns of apple and our trading strategy\n",
    "# extracted from the book \"python for finance\" \n",
    "\n",
    "apple[\"Market\"] = np.log(apple.Close / apple.Close.shift(1))\n",
    "apple[\"Strategy\"] = apple.signal.shift(1) * apple[\"Market\"] \n"
   ]
  },
  {
   "cell_type": "code",
   "execution_count": null,
   "metadata": {},
   "outputs": [],
   "source": [
    "with plt.style.context('fivethirtyeight'):\n",
    "    ax=apple[[\"Market\", \"Strategy\"]].cumsum().apply(np.exp).plot(linewidth =2)\n",
    "ax.tick_params(axis='both', which='major', labelsize=12)\n",
    "\n",
    "plt.suptitle(\"Apple's Actual Stock vs Trading Strategy\", size=18, y=1.1,fontweight='bold');\n",
    "plt.xlabel(\"Time\", size =15)\n",
    "plt.ylabel(\"Stock price\", size  =15)\n",
    "plt.grid(True)\n",
    "plt.savefig(\"Apple Actual Stock vs Trading Strategy \", dpi = 150,bbox_inches =\"tight\")\n",
    "plt.show()"
   ]
  },
  {
   "cell_type": "code",
   "execution_count": null,
   "metadata": {},
   "outputs": [],
   "source": []
  },
  {
   "cell_type": "code",
   "execution_count": null,
   "metadata": {},
   "outputs": [],
   "source": []
  },
  {
   "cell_type": "code",
   "execution_count": null,
   "metadata": {},
   "outputs": [],
   "source": []
  },
  {
   "cell_type": "code",
   "execution_count": null,
   "metadata": {},
   "outputs": [],
   "source": []
  }
 ],
 "metadata": {
  "kernelspec": {
   "display_name": "Python 3",
   "language": "python",
   "name": "python3"
  },
  "language_info": {
   "codemirror_mode": {
    "name": "ipython",
    "version": 3
   },
   "file_extension": ".py",
   "mimetype": "text/x-python",
   "name": "python",
   "nbconvert_exporter": "python",
   "pygments_lexer": "ipython3",
   "version": "3.7.4"
  }
 },
 "nbformat": 4,
 "nbformat_minor": 4
}
